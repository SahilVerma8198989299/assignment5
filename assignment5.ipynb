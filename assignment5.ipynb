{
 "cells": [
  {
   "cell_type": "markdown",
   "id": "f8e36126-9f5e-4f10-a0ec-dbc9a2dcf1f0",
   "metadata": {},
   "source": [
    "Q1, Create a vehicle class with an init method having instance variables as name_of_vehicle, max_speed\n",
    "and average_of_vehicle."
   ]
  },
  {
   "cell_type": "code",
   "execution_count": 7,
   "id": "2c2e7286-eb9a-4ba6-b5ee-781806ef3129",
   "metadata": {},
   "outputs": [
    {
     "data": {
      "text/plain": [
       "('van', 70, 50)"
      ]
     },
     "execution_count": 7,
     "metadata": {},
     "output_type": "execute_result"
    }
   ],
   "source": [
    "class vehicle:\n",
    "    def __init__(self, name, speed, average):\n",
    "        self.name_of_vehicle=name\n",
    "        self.max_speed=speed\n",
    "        self.average_of_vehicle=average\n",
    "    def information(self):\n",
    "        return self.name_of_vehicle, self.max_speed, self.average_of_vehicle\n",
    "obj=vehicle(\"van\", 70, 50)\n",
    "obj.information()"
   ]
  },
  {
   "cell_type": "markdown",
   "id": "5acfcb11-e16d-4e9f-b126-592ae2e68567",
   "metadata": {},
   "source": [
    "Q2. Create a child class car from the vehicle class created in Que 1, which will inherit the vehicle class.\n",
    "Create a method named seating_capacity which takes capacity as an argument and returns the name of\n",
    "the vehicle and its seating capacity."
   ]
  },
  {
   "cell_type": "code",
   "execution_count": 27,
   "id": "18511ddc-7a9b-41de-b3d1-1b0dcffa9f9a",
   "metadata": {},
   "outputs": [
    {
     "data": {
      "text/plain": [
       "60"
      ]
     },
     "execution_count": 27,
     "metadata": {},
     "output_type": "execute_result"
    }
   ],
   "source": [
    "class car(vehicle):\n",
    "    def seating_capacity(self, capacity):\n",
    "        self.capacity1=capacity\n",
    "obj1=car(\"van\", 70, 50)\n",
    "obj1.seating_capacity(60)\n",
    "obj1.capacity1\n",
    "# obj1.information()"
   ]
  },
  {
   "cell_type": "code",
   "execution_count": null,
   "id": "6059074d-f3e5-45f0-b0f7-5e2680a4c748",
   "metadata": {},
   "outputs": [],
   "source": [
    "obj1=car(\"van\", 70, 50)\n",
    "obj"
   ]
  },
  {
   "cell_type": "markdown",
   "id": "4161606f-04bc-45c1-80ac-52b8649f5a83",
   "metadata": {},
   "source": [
    "Q3. What is multiple inheritance? Write a python code to demonstrate multiple inheritance."
   ]
  },
  {
   "cell_type": "markdown",
   "id": "a2cc55f9-5414-4b4c-9421-5e31c42fb62a",
   "metadata": {},
   "source": [
    "Multiple inheritance is a feature in object-oriented programming languages that allows a class to inherit attributes and methods from more than one parent class. In Python, you can create a class that inherits from multiple parent classes by listing them in the parentheses after the class name"
   ]
  },
  {
   "cell_type": "code",
   "execution_count": 61,
   "id": "427719a9-9df1-42e3-9fce-6bd3cc3344b4",
   "metadata": {},
   "outputs": [
    {
     "data": {
      "text/plain": [
       "'good afternoon'"
      ]
     },
     "execution_count": 61,
     "metadata": {},
     "output_type": "execute_result"
    }
   ],
   "source": [
    "class hello:\n",
    "    def everyone(self):\n",
    "        return \"hello everyone\"\n",
    "    \n",
    "class hello1(hello):\n",
    "    def morning(self):\n",
    "        return \"good morning\"\n",
    "    \n",
    "class hello2(hello1, hello):\n",
    "    def afternoon(self):\n",
    "        return \"good afternoon\"\n",
    "        \n",
    "        \n",
    "obj=hello2()\n",
    "obj.afternoon()"
   ]
  },
  {
   "cell_type": "code",
   "execution_count": 62,
   "id": "452e9a1a-89f4-465b-bff1-712d9762cbd9",
   "metadata": {},
   "outputs": [
    {
     "data": {
      "text/plain": [
       "'good morning'"
      ]
     },
     "execution_count": 62,
     "metadata": {},
     "output_type": "execute_result"
    }
   ],
   "source": [
    "obj.morning()"
   ]
  },
  {
   "cell_type": "code",
   "execution_count": 63,
   "id": "0fd90c14-1d32-4be9-9aa6-53cd8cfea3d9",
   "metadata": {},
   "outputs": [
    {
     "data": {
      "text/plain": [
       "'hello everyone'"
      ]
     },
     "execution_count": 63,
     "metadata": {},
     "output_type": "execute_result"
    }
   ],
   "source": [
    "obj.everyone()"
   ]
  },
  {
   "cell_type": "markdown",
   "id": "1c7be94c-822e-4a52-a025-a0bae8724dd6",
   "metadata": {},
   "source": [
    "Q4. What are getter and setter in python? Create a class and create a getter and a setter method in this\n",
    "class."
   ]
  },
  {
   "cell_type": "markdown",
   "id": "8dbd96bf-8096-4018-aa66-7478083c010d",
   "metadata": {},
   "source": [
    "In Python, getters and setters are methods used to access and modify the attributes of a class, respectively. They provide a way to encapsulate the access to class attributes and enforce data integrity by adding logic or validation when getting or setting the values."
   ]
  },
  {
   "cell_type": "code",
   "execution_count": 101,
   "id": "31bb8a50-9721-4524-9fdc-13265c806e61",
   "metadata": {},
   "outputs": [],
   "source": [
    "class person():\n",
    "    def __init__(self, name, age):\n",
    "        self.__name=name\n",
    "        self.__age=age\n",
    "    def set_name(self, name, age):\n",
    "        self.__name=name\n",
    "        self.__age=0 if age<=0 else age\n",
    "    def get_name(self):\n",
    "        return self.__name, self.__age\n",
    "    \n",
    "    \n",
    "obj2=person(\"sahil\", 19)\n",
    "obj2.set_name(\"sahil\", 19)\n"
   ]
  },
  {
   "cell_type": "code",
   "execution_count": 102,
   "id": "34aac14a-fff3-4d22-8e13-c170bdfb5a7b",
   "metadata": {},
   "outputs": [
    {
     "data": {
      "text/plain": [
       "('sahil', 19)"
      ]
     },
     "execution_count": 102,
     "metadata": {},
     "output_type": "execute_result"
    }
   ],
   "source": [
    "obj2.get_name()"
   ]
  },
  {
   "cell_type": "markdown",
   "id": "c04ca0e0-6a3a-4874-ad30-040e61e46266",
   "metadata": {},
   "source": [
    "Q5.What is method overriding in python? Write a python code to demonstrate method overriding."
   ]
  },
  {
   "cell_type": "markdown",
   "id": "21277105-30a1-4310-a728-796b7404a948",
   "metadata": {},
   "source": [
    "Method overriding is a feature in object-oriented programming that allows a subclass to provide its own implementation of a method that is already defined in its parent class. When a method is overridden, the version of the method defined in the subclass is called instead of the parent class's version when the method is invoked on an instance of the subclass"
   ]
  },
  {
   "cell_type": "code",
   "execution_count": 104,
   "id": "4ff9a00f-6b88-4386-9371-ac69da9ec59a",
   "metadata": {},
   "outputs": [
    {
     "data": {
      "text/plain": [
       "'I am in B'"
      ]
     },
     "execution_count": 104,
     "metadata": {},
     "output_type": "execute_result"
    }
   ],
   "source": [
    "class A:\n",
    "    def show(self):\n",
    "        return \"I am in A\"\n",
    "class B(A):\n",
    "    def show(self):\n",
    "        return \"I am in B\"\n",
    "    \n",
    "c=B()\n",
    "c.show()"
   ]
  },
  {
   "cell_type": "markdown",
   "id": "9e5835e0-91c1-4aca-8438-d524fb7ace89",
   "metadata": {},
   "source": [
    "this above code is an example of overriding."
   ]
  },
  {
   "cell_type": "code",
   "execution_count": null,
   "id": "b796f15c-6e85-43c1-85f9-d721f46c8c2c",
   "metadata": {},
   "outputs": [],
   "source": []
  }
 ],
 "metadata": {
  "kernelspec": {
   "display_name": "Python 3 (ipykernel)",
   "language": "python",
   "name": "python3"
  },
  "language_info": {
   "codemirror_mode": {
    "name": "ipython",
    "version": 3
   },
   "file_extension": ".py",
   "mimetype": "text/x-python",
   "name": "python",
   "nbconvert_exporter": "python",
   "pygments_lexer": "ipython3",
   "version": "3.10.8"
  }
 },
 "nbformat": 4,
 "nbformat_minor": 5
}
